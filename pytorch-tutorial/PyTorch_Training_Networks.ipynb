{
 "cells": [
  {
   "cell_type": "code",
   "execution_count": 1,
   "metadata": {},
   "outputs": [],
   "source": [
    "%matplotlib inline\n",
    "%config InlineBackend.figure_format = 'retina'\n",
    "\n",
    "from collections import OrderedDict\n",
    "\n",
    "import numpy as np\n",
    "import time\n",
    "\n",
    "import torch\n",
    "from torch import nn\n",
    "from torch import optim\n",
    "import torch.nn.functional as F\n",
    "\n",
    "import helper"
   ]
  },
  {
   "cell_type": "code",
   "execution_count": 2,
   "metadata": {},
   "outputs": [
    {
     "name": "stdout",
     "output_type": "stream",
     "text": [
      "tensor([[ 1.7098,  0.1474],\n",
      "        [ 0.1967, -0.4332]], requires_grad=True)\n"
     ]
    }
   ],
   "source": [
    "x = torch.randn(2,2 , requires_grad=True)\n",
    "print(x)"
   ]
  },
  {
   "cell_type": "code",
   "execution_count": 3,
   "metadata": {},
   "outputs": [
    {
     "name": "stdout",
     "output_type": "stream",
     "text": [
      "tensor([[2.9236, 0.0217],\n",
      "        [0.0387, 0.1876]], grad_fn=<PowBackward0>)\n"
     ]
    }
   ],
   "source": [
    "y = x**2\n",
    "print(y)"
   ]
  },
  {
   "cell_type": "code",
   "execution_count": 4,
   "metadata": {},
   "outputs": [
    {
     "name": "stdout",
     "output_type": "stream",
     "text": [
      "<PowBackward0 object at 0x10889f080>\n"
     ]
    }
   ],
   "source": [
    "print(y.grad_fn)"
   ]
  },
  {
   "cell_type": "code",
   "execution_count": 5,
   "metadata": {},
   "outputs": [
    {
     "data": {
      "text/plain": [
       "tensor(0.7929, grad_fn=<MeanBackward1>)"
      ]
     },
     "execution_count": 5,
     "metadata": {},
     "output_type": "execute_result"
    }
   ],
   "source": [
    "z = y.mean()\n",
    "z"
   ]
  },
  {
   "cell_type": "code",
   "execution_count": 6,
   "metadata": {},
   "outputs": [
    {
     "name": "stdout",
     "output_type": "stream",
     "text": [
      "None\n"
     ]
    }
   ],
   "source": [
    "print(x.grad)"
   ]
  },
  {
   "cell_type": "code",
   "execution_count": 7,
   "metadata": {},
   "outputs": [
    {
     "name": "stdout",
     "output_type": "stream",
     "text": [
      "tensor([[ 0.8549,  0.0737],\n",
      "        [ 0.0984, -0.2166]])\n"
     ]
    }
   ],
   "source": [
    "z.backward()\n",
    "print(x.grad)"
   ]
  },
  {
   "cell_type": "markdown",
   "metadata": {},
   "source": [
    "## Get data and define the network"
   ]
  },
  {
   "cell_type": "code",
   "execution_count": 9,
   "metadata": {},
   "outputs": [],
   "source": [
    "from torchvision import datasets, transforms\n",
    "\n",
    "# define transform to normalize the data\n",
    "transform = transforms.Compose([\n",
    "    transforms.ToTensor(),\n",
    "    transforms.Normalize((0.5, 0.5, 0.5, 0.5), (0.5, 0.5, 0.5, 0.5))\n",
    "])\n",
    "\n",
    "# download and load the data\n",
    "trainset = datasets.MNIST('MNIST_data', download=True, train=True, transform=transform)\n",
    "trainloader = torch.utils.data.DataLoader(trainset, batch_size=64, shuffle=True)"
   ]
  },
  {
   "cell_type": "code",
   "execution_count": 10,
   "metadata": {},
   "outputs": [],
   "source": [
    "# networks hyperparameters\n",
    "input_size = 784\n",
    "hidden_size = [128, 64]\n",
    "output_size = 10\n",
    "\n",
    "# Build a feed-forward network\n",
    "model = nn.Sequential(OrderedDict([\n",
    "    ('fc1', nn.Linear(input_size, hidden_size[0])),\n",
    "    ('relu1', nn.ReLU()),\n",
    "    ('fc2', nn.Linear(hidden_size[0], hidden_size[1])),\n",
    "    ('relu2', nn.ReLU()),\n",
    "    ('logits', nn.Linear(hidden_size[1], output_size))\n",
    "]))"
   ]
  },
  {
   "cell_type": "markdown",
   "metadata": {},
   "source": [
    "## Training the networks"
   ]
  },
  {
   "cell_type": "code",
   "execution_count": 11,
   "metadata": {},
   "outputs": [],
   "source": [
    "criterion = nn.CrossEntropyLoss()\n",
    "optimizer = optim.SGD(model.parameters(), lr=0.01)"
   ]
  },
  {
   "cell_type": "code",
   "execution_count": 12,
   "metadata": {},
   "outputs": [
    {
     "name": "stdout",
     "output_type": "stream",
     "text": [
      "initial weights:  Parameter containing:\n",
      "tensor([[-0.0076,  0.0081, -0.0021,  ...,  0.0244,  0.0156,  0.0152],\n",
      "        [-0.0048,  0.0352,  0.0322,  ...,  0.0158,  0.0027,  0.0219],\n",
      "        [ 0.0048,  0.0266,  0.0010,  ..., -0.0161,  0.0324, -0.0132],\n",
      "        ...,\n",
      "        [-0.0181,  0.0332,  0.0150,  ...,  0.0013, -0.0225, -0.0173],\n",
      "        [ 0.0344, -0.0085, -0.0262,  ...,  0.0322,  0.0319,  0.0222],\n",
      "        [-0.0233, -0.0353, -0.0305,  ..., -0.0060,  0.0021, -0.0202]],\n",
      "       requires_grad=True)\n",
      "Gradient -  tensor([[ 0.0004,  0.0004,  0.0004,  ...,  0.0004,  0.0004,  0.0004],\n",
      "        [-0.0041, -0.0041, -0.0041,  ..., -0.0041, -0.0041, -0.0041],\n",
      "        [ 0.0010,  0.0010,  0.0010,  ...,  0.0010,  0.0010,  0.0010],\n",
      "        ...,\n",
      "        [ 0.0047,  0.0047,  0.0047,  ...,  0.0047,  0.0047,  0.0047],\n",
      "        [-0.0015, -0.0015, -0.0015,  ..., -0.0015, -0.0015, -0.0015],\n",
      "        [-0.0037, -0.0037, -0.0037,  ..., -0.0037, -0.0037, -0.0037]])\n"
     ]
    }
   ],
   "source": [
    "print('initial weights: ', model.fc1.weight)\n",
    "\n",
    "images, labels = next(iter(trainloader))\n",
    "images.resize_(64, 784)\n",
    "\n",
    "# clear the gradients because gradients are cummulated\n",
    "optimizer.zero_grad()\n",
    "\n",
    "output = model.forward(images)\n",
    "loss = criterion(output, labels)\n",
    "loss.backward()\n",
    "print('Gradient - ', model.fc1.weight.grad)\n",
    "optimizer.step()"
   ]
  },
  {
   "cell_type": "code",
   "execution_count": 14,
   "metadata": {},
   "outputs": [
    {
     "name": "stdout",
     "output_type": "stream",
     "text": [
      "updated weights:  Parameter containing:\n",
      "tensor([[-0.0076,  0.0081, -0.0021,  ...,  0.0244,  0.0156,  0.0152],\n",
      "        [-0.0048,  0.0352,  0.0323,  ...,  0.0158,  0.0028,  0.0220],\n",
      "        [ 0.0047,  0.0266,  0.0010,  ..., -0.0161,  0.0324, -0.0132],\n",
      "        ...,\n",
      "        [-0.0182,  0.0331,  0.0150,  ...,  0.0013, -0.0225, -0.0174],\n",
      "        [ 0.0344, -0.0085, -0.0262,  ...,  0.0322,  0.0319,  0.0222],\n",
      "        [-0.0233, -0.0353, -0.0304,  ..., -0.0060,  0.0021, -0.0201]],\n",
      "       requires_grad=True)\n"
     ]
    }
   ],
   "source": [
    "print('updated weights: ', model.fc1.weight)"
   ]
  },
  {
   "cell_type": "markdown",
   "metadata": {},
   "source": [
    "## Training with looping"
   ]
  },
  {
   "cell_type": "code",
   "execution_count": 15,
   "metadata": {},
   "outputs": [],
   "source": [
    "optimizer = optim.SGD(model.parameters(), lr=0.003)"
   ]
  },
  {
   "cell_type": "code",
   "execution_count": 16,
   "metadata": {},
   "outputs": [
    {
     "name": "stdout",
     "output_type": "stream",
     "text": [
      "Epoch: 1/3...  Loss: 2.2913\n",
      "Epoch: 1/3...  Loss: 2.2635\n",
      "Epoch: 1/3...  Loss: 2.2409\n",
      "Epoch: 1/3...  Loss: 2.2187\n",
      "Epoch: 1/3...  Loss: 2.1943\n",
      "Epoch: 1/3...  Loss: 2.1610\n",
      "Epoch: 1/3...  Loss: 2.1296\n",
      "Epoch: 1/3...  Loss: 2.0935\n",
      "Epoch: 1/3...  Loss: 2.0502\n",
      "Epoch: 1/3...  Loss: 2.0021\n",
      "Epoch: 1/3...  Loss: 1.9683\n",
      "Epoch: 1/3...  Loss: 1.9081\n",
      "Epoch: 1/3...  Loss: 1.8616\n",
      "Epoch: 1/3...  Loss: 1.7903\n",
      "Epoch: 1/3...  Loss: 1.7470\n",
      "Epoch: 1/3...  Loss: 1.6701\n",
      "Epoch: 1/3...  Loss: 1.6161\n",
      "Epoch: 1/3...  Loss: 1.5376\n",
      "Epoch: 1/3...  Loss: 1.4652\n",
      "Epoch: 1/3...  Loss: 1.4023\n",
      "Epoch: 1/3...  Loss: 1.3071\n",
      "Epoch: 1/3...  Loss: 1.2611\n",
      "Epoch: 1/3...  Loss: 1.1874\n",
      "Epoch: 2/3...  Loss: 0.6061\n",
      "Epoch: 2/3...  Loss: 1.0872\n",
      "Epoch: 2/3...  Loss: 1.0399\n",
      "Epoch: 2/3...  Loss: 1.0156\n",
      "Epoch: 2/3...  Loss: 0.9522\n",
      "Epoch: 2/3...  Loss: 0.9224\n",
      "Epoch: 2/3...  Loss: 0.8809\n",
      "Epoch: 2/3...  Loss: 0.8586\n",
      "Epoch: 2/3...  Loss: 0.8248\n",
      "Epoch: 2/3...  Loss: 0.8064\n",
      "Epoch: 2/3...  Loss: 0.7739\n",
      "Epoch: 2/3...  Loss: 0.7627\n",
      "Epoch: 2/3...  Loss: 0.7321\n",
      "Epoch: 2/3...  Loss: 0.7286\n",
      "Epoch: 2/3...  Loss: 0.6792\n",
      "Epoch: 2/3...  Loss: 0.6633\n",
      "Epoch: 2/3...  Loss: 0.6664\n",
      "Epoch: 2/3...  Loss: 0.6607\n",
      "Epoch: 2/3...  Loss: 0.6380\n",
      "Epoch: 2/3...  Loss: 0.6136\n",
      "Epoch: 2/3...  Loss: 0.6193\n",
      "Epoch: 2/3...  Loss: 0.6213\n",
      "Epoch: 2/3...  Loss: 0.6252\n",
      "Epoch: 3/3...  Loss: 0.0548\n",
      "Epoch: 3/3...  Loss: 0.5457\n",
      "Epoch: 3/3...  Loss: 0.5544\n",
      "Epoch: 3/3...  Loss: 0.5490\n",
      "Epoch: 3/3...  Loss: 0.5815\n",
      "Epoch: 3/3...  Loss: 0.5363\n",
      "Epoch: 3/3...  Loss: 0.5451\n",
      "Epoch: 3/3...  Loss: 0.5267\n",
      "Epoch: 3/3...  Loss: 0.5288\n",
      "Epoch: 3/3...  Loss: 0.4906\n",
      "Epoch: 3/3...  Loss: 0.5095\n",
      "Epoch: 3/3...  Loss: 0.4914\n",
      "Epoch: 3/3...  Loss: 0.5060\n",
      "Epoch: 3/3...  Loss: 0.4913\n",
      "Epoch: 3/3...  Loss: 0.4924\n",
      "Epoch: 3/3...  Loss: 0.4744\n",
      "Epoch: 3/3...  Loss: 0.4786\n",
      "Epoch: 3/3...  Loss: 0.4784\n",
      "Epoch: 3/3...  Loss: 0.4857\n",
      "Epoch: 3/3...  Loss: 0.4719\n",
      "Epoch: 3/3...  Loss: 0.4536\n",
      "Epoch: 3/3...  Loss: 0.4720\n",
      "Epoch: 3/3...  Loss: 0.4687\n",
      "Epoch: 3/3...  Loss: 0.4329\n"
     ]
    }
   ],
   "source": [
    "epochs = 3\n",
    "print_every = 40\n",
    "steps = 0\n",
    "\n",
    "for e in range(epochs):\n",
    "    running_loss = 0\n",
    "    for images, labels in iter(trainloader):\n",
    "        steps += 1\n",
    "        # flatten mnist images to 784 long vector\n",
    "        images.resize_(images.size()[0], 784)\n",
    "        \n",
    "        optimizer.zero_grad()\n",
    "        \n",
    "        # forward and backward pass\n",
    "        output = model.forward(images)\n",
    "        loss = criterion(output, labels)\n",
    "        loss.backward()\n",
    "        optimizer.step()\n",
    "        \n",
    "        running_loss += loss.item()\n",
    "        \n",
    "        if steps % print_every == 0:\n",
    "            print(\"Epoch: {}/{}... \".format(e+1, epochs),\n",
    "                  \"Loss: {:.4f}\".format(running_loss/print_every))\n",
    "            \n",
    "            running_loss = 0"
   ]
  },
  {
   "cell_type": "code",
   "execution_count": 17,
   "metadata": {},
   "outputs": [
    {
     "data": {
      "image/png": "[encoded data removed]",
      "text/plain": [
       "<Figure size 432x648 with 2 Axes>"
      ]
     },
     "metadata": {
      "image/png": {
       "height": 224,
       "width": 423
      },
      "needs_background": "light"
     },
     "output_type": "display_data"
    }
   ],
   "source": [
    "images, labels = next(iter(trainloader))\n",
    "\n",
    "img = images[0].view(1,784)\n",
    "# turn off gradients to speed up\n",
    "with torch.no_grad():\n",
    "    logits = model.forward(img)\n",
    "\n",
    "# output of the network are logits, need to take softmax for probabilites\n",
    "ps = F.softmax(logits, dim=1)\n",
    "helper.view_classify(img.view(1,28,28), ps)"
   ]
  },
  {
   "cell_type": "code",
   "execution_count": null,
   "metadata": {},
   "outputs": [],
   "source": []
  }
 ],
 "metadata": {
  "kernelspec": {
   "display_name": "Python 3",
   "language": "python",
   "name": "python3"
  },
  "language_info": {
   "codemirror_mode": {
    "name": "ipython",
    "version": 3
   },
   "file_extension": ".py",
   "mimetype": "text/x-python",
   "name": "python",
   "nbconvert_exporter": "python",
   "pygments_lexer": "ipython3",
   "version": "3.6.6"
  }
 },
 "nbformat": 4,
 "nbformat_minor": 2
}
