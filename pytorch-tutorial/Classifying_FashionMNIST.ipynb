{
 "cells": [
  {
   "cell_type": "code",
   "execution_count": 1,
   "metadata": {},
   "outputs": [],
   "source": [
    "# import things\n",
    "import torch\n",
    "from torchvision import datasets, transforms\n",
    "import helper"
   ]
  },
  {
   "cell_type": "code",
   "execution_count": 2,
   "metadata": {},
   "outputs": [],
   "source": [
    "# transform definition for normalizing data\n",
    "transform = transforms.Compose([\n",
    "    transforms.ToTensor(),\n",
    "    transforms.Normalize((0.5, 0.5, 0.5, 0.5), (0.5, 0.5, 0.5, 0.5))\n",
    "])\n",
    "\n",
    "# Download and load training data\n",
    "trainset = datasets.FashionMNIST('F_MNIST_data', download=True, transform=transform, train=True)\n",
    "trainloader = torch.utils.data.DataLoader(trainset, batch_size=64, shuffle=True)\n",
    "\n",
    "# Download and load test data\n",
    "testset = datasets.FashionMNIST('F_MNIST_data', download=True, transform=transform, train=False)\n",
    "testloader = torch.utils.data.DataLoader(testset, batch_size=64, shuffle=True)"
   ]
  },
  {
   "cell_type": "code",
   "execution_count": 3,
   "metadata": {},
   "outputs": [
    {
     "data": {
      "text/plain": [
       "<matplotlib.axes._subplots.AxesSubplot at 0x1235c7080>"
      ]
     },
     "execution_count": 3,
     "metadata": {},
     "output_type": "execute_result"
    },
    {
     "data": {
      "image/png": "[encoded data removed]",
      "text/plain": [
       "<Figure size 432x288 with 1 Axes>"
      ]
     },
     "metadata": {
      "needs_background": "light"
     },
     "output_type": "display_data"
    }
   ],
   "source": [
    "images, labels = next(iter(trainloader))\n",
    "helper.imshow(images[0, :])"
   ]
  },
  {
   "cell_type": "code",
   "execution_count": 4,
   "metadata": {},
   "outputs": [
    {
     "name": "stdout",
     "output_type": "stream",
     "text": [
      "size of images: torch.Size([64, 1, 28, 28])\n",
      "size of labels: torch.Size([64])\n"
     ]
    }
   ],
   "source": [
    "print('size of images: {}'.format(images.size()))\n",
    "print('size of labels: {}'.format(labels.size()))"
   ]
  },
  {
   "cell_type": "code",
   "execution_count": 5,
   "metadata": {},
   "outputs": [],
   "source": [
    "# import necessary packages\n",
    "%matplotlib inline\n",
    "\n",
    "import time\n",
    "import matplotlib.pyplot as plt\n",
    "import numpy as np\n",
    "\n",
    "import torch\n",
    "import torch.nn as nn\n",
    "from torch import optim\n",
    "import torch.nn.functional as F\n",
    "from torchvision import datasets, transforms\n",
    "from collections import OrderedDict\n",
    "\n",
    "import helper"
   ]
  },
  {
   "cell_type": "markdown",
   "metadata": {},
   "source": [
    "## Building The Networks"
   ]
  },
  {
   "cell_type": "code",
   "execution_count": 6,
   "metadata": {},
   "outputs": [
    {
     "name": "stdout",
     "output_type": "stream",
     "text": [
      "Sequential(\n",
      "  (fc1): Linear(in_features=784, out_features=300, bias=True)\n",
      "  (relu1): ReLU()\n",
      "  (fc2): Linear(in_features=300, out_features=200, bias=True)\n",
      "  (relu2): ReLU()\n",
      "  (logits): Linear(in_features=200, out_features=10, bias=True)\n",
      ")\n"
     ]
    }
   ],
   "source": [
    "# hyperparameters\n",
    "input_size = 784\n",
    "hidden_size = [300, 200]\n",
    "output_size = 10\n",
    "\n",
    "model = nn.Sequential(OrderedDict([\n",
    "    ('fc1', nn.Linear(in_features=input_size, out_features=hidden_size[0])),\n",
    "    ('relu1', nn.ReLU()),\n",
    "    ('fc2', nn.Linear(in_features=hidden_size[0], out_features=hidden_size[1])),\n",
    "    ('relu2', nn.ReLU()),\n",
    "    ('logits', nn.Linear(in_features=hidden_size[1], out_features=output_size))\n",
    "]))\n",
    "\n",
    "print(model)"
   ]
  },
  {
   "cell_type": "code",
   "execution_count": 7,
   "metadata": {},
   "outputs": [],
   "source": [
    "# Define the loss criterion and optimizer\n",
    "# criterion is used for computing the loss\n",
    "# optimizer is used for updating the model parameters/weights\n",
    "criterion = nn.CrossEntropyLoss()\n",
    "optimizer = optim.Adam(model.parameters(), lr=0.004)"
   ]
  },
  {
   "cell_type": "code",
   "execution_count": 8,
   "metadata": {},
   "outputs": [
    {
     "name": "stdout",
     "output_type": "stream",
     "text": [
      "Epoch: 1/5.. Loss: 0.9333\n",
      "Epoch: 1/5.. Loss: 0.5944\n",
      "Epoch: 1/5.. Loss: 0.5713\n",
      "Epoch: 1/5.. Loss: 0.5627\n",
      "Epoch: 1/5.. Loss: 0.5393\n",
      "Epoch: 1/5.. Loss: 0.5093\n",
      "Epoch: 1/5.. Loss: 0.5481\n",
      "Epoch: 1/5.. Loss: 0.4590\n",
      "Epoch: 1/5.. Loss: 0.4903\n",
      "Epoch: 1/5.. Loss: 0.4416\n",
      "Epoch: 1/5.. Loss: 0.4953\n",
      "Epoch: 1/5.. Loss: 0.4720\n",
      "Epoch: 1/5.. Loss: 0.4757\n",
      "Epoch: 1/5.. Loss: 0.4560\n",
      "Epoch: 1/5.. Loss: 0.4401\n",
      "Epoch: 1/5.. Loss: 0.4210\n",
      "Epoch: 1/5.. Loss: 0.4217\n",
      "Epoch: 1/5.. Loss: 0.4323\n",
      "Epoch: 2/5.. Loss: 0.0920\n",
      "Epoch: 2/5.. Loss: 0.3950\n",
      "Epoch: 2/5.. Loss: 0.3983\n",
      "Epoch: 2/5.. Loss: 0.4164\n",
      "Epoch: 2/5.. Loss: 0.4024\n",
      "Epoch: 2/5.. Loss: 0.4044\n",
      "Epoch: 2/5.. Loss: 0.4021\n",
      "Epoch: 2/5.. Loss: 0.4478\n",
      "Epoch: 2/5.. Loss: 0.3990\n",
      "Epoch: 2/5.. Loss: 0.3937\n",
      "Epoch: 2/5.. Loss: 0.4032\n",
      "Epoch: 2/5.. Loss: 0.3822\n",
      "Epoch: 2/5.. Loss: 0.4286\n",
      "Epoch: 2/5.. Loss: 0.3779\n",
      "Epoch: 2/5.. Loss: 0.3696\n",
      "Epoch: 2/5.. Loss: 0.3937\n",
      "Epoch: 2/5.. Loss: 0.4070\n",
      "Epoch: 2/5.. Loss: 0.3635\n",
      "Epoch: 2/5.. Loss: 0.4361\n",
      "Epoch: 3/5.. Loss: 0.1590\n",
      "Epoch: 3/5.. Loss: 0.3527\n",
      "Epoch: 3/5.. Loss: 0.3393\n",
      "Epoch: 3/5.. Loss: 0.3734\n",
      "Epoch: 3/5.. Loss: 0.3826\n",
      "Epoch: 3/5.. Loss: 0.3661\n",
      "Epoch: 3/5.. Loss: 0.3386\n",
      "Epoch: 3/5.. Loss: 0.3638\n",
      "Epoch: 3/5.. Loss: 0.3644\n",
      "Epoch: 3/5.. Loss: 0.3436\n",
      "Epoch: 3/5.. Loss: 0.3918\n",
      "Epoch: 3/5.. Loss: 0.3464\n",
      "Epoch: 3/5.. Loss: 0.3745\n",
      "Epoch: 3/5.. Loss: 0.3556\n",
      "Epoch: 3/5.. Loss: 0.3455\n",
      "Epoch: 3/5.. Loss: 0.3652\n",
      "Epoch: 3/5.. Loss: 0.3355\n",
      "Epoch: 3/5.. Loss: 0.3558\n",
      "Epoch: 3/5.. Loss: 0.3479\n",
      "Epoch: 4/5.. Loss: 0.2490\n",
      "Epoch: 4/5.. Loss: 0.3812\n",
      "Epoch: 4/5.. Loss: 0.3252\n",
      "Epoch: 4/5.. Loss: 0.3382\n",
      "Epoch: 4/5.. Loss: 0.2986\n",
      "Epoch: 4/5.. Loss: 0.3640\n",
      "Epoch: 4/5.. Loss: 0.3507\n",
      "Epoch: 4/5.. Loss: 0.3491\n",
      "Epoch: 4/5.. Loss: 0.3288\n",
      "Epoch: 4/5.. Loss: 0.3412\n",
      "Epoch: 4/5.. Loss: 0.3573\n",
      "Epoch: 4/5.. Loss: 0.3634\n",
      "Epoch: 4/5.. Loss: 0.3279\n",
      "Epoch: 4/5.. Loss: 0.3375\n",
      "Epoch: 4/5.. Loss: 0.3229\n",
      "Epoch: 4/5.. Loss: 0.3625\n",
      "Epoch: 4/5.. Loss: 0.3301\n",
      "Epoch: 4/5.. Loss: 0.3426\n",
      "Epoch: 4/5.. Loss: 0.3653\n",
      "Epoch: 5/5.. Loss: 0.3075\n",
      "Epoch: 5/5.. Loss: 0.3224\n",
      "Epoch: 5/5.. Loss: 0.3125\n",
      "Epoch: 5/5.. Loss: 0.3335\n",
      "Epoch: 5/5.. Loss: 0.3236\n",
      "Epoch: 5/5.. Loss: 0.3099\n",
      "Epoch: 5/5.. Loss: 0.3313\n",
      "Epoch: 5/5.. Loss: 0.3724\n",
      "Epoch: 5/5.. Loss: 0.2950\n",
      "Epoch: 5/5.. Loss: 0.3447\n",
      "Epoch: 5/5.. Loss: 0.3247\n",
      "Epoch: 5/5.. Loss: 0.3122\n",
      "Epoch: 5/5.. Loss: 0.3654\n",
      "Epoch: 5/5.. Loss: 0.3000\n",
      "Epoch: 5/5.. Loss: 0.3377\n",
      "Epoch: 5/5.. Loss: 0.3348\n",
      "Epoch: 5/5.. Loss: 0.3233\n",
      "Epoch: 5/5.. Loss: 0.3419\n"
     ]
    }
   ],
   "source": [
    "# defining training parameters\n",
    "epochs = 5\n",
    "print_every = 50    # the loss and training accuracy will be printed after number of this variable\n",
    "step = 0    # used for computing the training step process\n",
    "\n",
    "for e in range(epochs):\n",
    "    epoch_loss = 0\n",
    "    for images, labels in trainloader:\n",
    "        step += 1\n",
    "        \n",
    "        # flatten image data to match input_size of the network\n",
    "        images.resize_(images.size()[0], 784)\n",
    "        \n",
    "        # zero the gradient\n",
    "        optimizer.zero_grad()\n",
    "        \n",
    "        # Do forward pass\n",
    "        output = model.forward(images)\n",
    "        # calculate loss\n",
    "        loss = criterion(output, labels)\n",
    "        # Do backward pass\n",
    "        loss.backward()\n",
    "        # Update the weights using defined otimizer\n",
    "        optimizer.step()\n",
    "        \n",
    "        # Sum up the loss for one epoch\n",
    "        epoch_loss += loss.item()\n",
    "        \n",
    "        # Print loss and epoch\n",
    "        if step % print_every == 0:\n",
    "            print('Epoch: {}/{}..'.format(e+1, epochs),\n",
    "                  'Loss: {:.4f}'.format(epoch_loss/print_every))\n",
    "            \n",
    "            epoch_loss = 0\n",
    "        "
   ]
  },
  {
   "cell_type": "code",
   "execution_count": 9,
   "metadata": {},
   "outputs": [
    {
     "data": {
      "image/png": "[encoded data removed]",
      "text/plain": [
       "<Figure size 432x648 with 2 Axes>"
      ]
     },
     "metadata": {
      "needs_background": "light"
     },
     "output_type": "display_data"
    }
   ],
   "source": [
    "# Test out the network\n",
    "\n",
    "# Create the iterator\n",
    "dataiter = iter(testloader)\n",
    "# Assign the every element in testloader into images and labels\n",
    "images, label = next(dataiter)\n",
    "# Resize images shape to match the input size of the network\n",
    "img = images.resize_(1, 784)\n",
    "\n",
    "# Calculate class probability\n",
    "with torch.no_grad():\n",
    "    logits = model.forward(img)\n",
    "ps = F.softmax(logits, dim=1)\n",
    "\n",
    "# Plot the image and the probability\n",
    "helper.view_classify(img, ps, version='Fashion')"
   ]
  },
  {
   "cell_type": "code",
   "execution_count": 10,
   "metadata": {},
   "outputs": [
    {
     "data": {
      "text/plain": [
       "[tensor([[[[-1.0000, -1.0000, -1.0000,  ..., -1.0000, -1.0000, -1.0000],\n",
       "           [-1.0000, -1.0000, -1.0000,  ..., -1.0000, -1.0000, -1.0000],\n",
       "           [-1.0000, -1.0000, -1.0000,  ..., -1.0000, -1.0000, -1.0000],\n",
       "           ...,\n",
       "           [-1.0000, -1.0000, -1.0000,  ..., -1.0000, -1.0000, -1.0000],\n",
       "           [-1.0000, -1.0000, -1.0000,  ..., -1.0000, -1.0000, -1.0000],\n",
       "           [-1.0000, -1.0000, -1.0000,  ..., -1.0000, -1.0000, -1.0000]]],\n",
       " \n",
       " \n",
       "         [[[-1.0000, -1.0000, -1.0000,  ..., -1.0000, -1.0000, -1.0000],\n",
       "           [-1.0000, -1.0000, -1.0000,  ..., -1.0000, -1.0000, -1.0000],\n",
       "           [-1.0000, -1.0000, -1.0000,  ..., -1.0000, -1.0000, -1.0000],\n",
       "           ...,\n",
       "           [-1.0000, -1.0000, -1.0000,  ..., -1.0000, -1.0000, -1.0000],\n",
       "           [-1.0000, -1.0000, -1.0000,  ..., -1.0000, -1.0000, -1.0000],\n",
       "           [-1.0000, -1.0000, -1.0000,  ..., -1.0000, -1.0000, -1.0000]]],\n",
       " \n",
       " \n",
       "         [[[-1.0000, -1.0000, -1.0000,  ..., -1.0000, -1.0000, -1.0000],\n",
       "           [-1.0000, -1.0000, -1.0000,  ..., -1.0000, -1.0000, -1.0000],\n",
       "           [-1.0000, -1.0000, -1.0000,  ..., -1.0000, -1.0000, -1.0000],\n",
       "           ...,\n",
       "           [-1.0000, -1.0000, -1.0000,  ..., -1.0000, -1.0000, -1.0000],\n",
       "           [-1.0000, -1.0000, -1.0000,  ..., -1.0000, -1.0000, -1.0000],\n",
       "           [-1.0000, -1.0000, -1.0000,  ..., -1.0000, -1.0000, -1.0000]]],\n",
       " \n",
       " \n",
       "         ...,\n",
       " \n",
       " \n",
       "         [[[-1.0000, -1.0000, -1.0000,  ..., -1.0000, -1.0000, -1.0000],\n",
       "           [-1.0000, -1.0000, -1.0000,  ..., -1.0000, -1.0000, -1.0000],\n",
       "           [-1.0000, -1.0000, -1.0000,  ..., -1.0000, -1.0000, -1.0000],\n",
       "           ...,\n",
       "           [-1.0000, -1.0000, -0.9529,  ..., -1.0000, -1.0000, -1.0000],\n",
       "           [-1.0000, -1.0000, -1.0000,  ..., -1.0000, -1.0000, -1.0000],\n",
       "           [-1.0000, -1.0000, -1.0000,  ..., -0.9922, -1.0000, -1.0000]]],\n",
       " \n",
       " \n",
       "         [[[-1.0000, -1.0000, -1.0000,  ..., -1.0000, -1.0000, -1.0000],\n",
       "           [-1.0000, -1.0000, -1.0000,  ..., -1.0000, -1.0000, -1.0000],\n",
       "           [-1.0000, -1.0000, -1.0000,  ..., -1.0000, -1.0000, -1.0000],\n",
       "           ...,\n",
       "           [-1.0000, -1.0000, -1.0000,  ..., -1.0000, -1.0000, -1.0000],\n",
       "           [-1.0000, -1.0000, -1.0000,  ..., -1.0000, -1.0000, -1.0000],\n",
       "           [-1.0000, -1.0000, -1.0000,  ..., -1.0000, -1.0000, -1.0000]]],\n",
       " \n",
       " \n",
       "         [[[-1.0000, -1.0000, -1.0000,  ..., -1.0000, -1.0000, -1.0000],\n",
       "           [-1.0000, -1.0000, -1.0000,  ..., -1.0000, -1.0000, -1.0000],\n",
       "           [-1.0000, -1.0000, -1.0000,  ..., -1.0000, -1.0000, -1.0000],\n",
       "           ...,\n",
       "           [-1.0000, -1.0000, -1.0000,  ..., -1.0000, -1.0000, -1.0000],\n",
       "           [-1.0000, -1.0000, -1.0000,  ..., -1.0000, -1.0000, -1.0000],\n",
       "           [-1.0000, -1.0000, -1.0000,  ..., -1.0000, -1.0000, -1.0000]]]]),\n",
       " tensor([1, 3, 4, 5, 4, 7, 5, 0, 0, 9, 7, 0, 3, 7, 5, 2, 6, 5, 3, 3, 4, 8, 6, 1,\n",
       "         7, 7, 3, 0, 6, 9, 7, 0, 8, 1, 2, 1, 7, 8, 4, 5, 5, 6, 1, 1, 2, 0, 1, 6,\n",
       "         4, 7, 8, 2, 5, 6, 9, 5, 1, 4, 3, 4, 0, 4, 9, 6])]"
      ]
     },
     "execution_count": 10,
     "metadata": {},
     "output_type": "execute_result"
    }
   ],
   "source": [
    "# next(dataiter)\n",
    "dataiter.next()"
   ]
  }
 ],
 "metadata": {
  "kernelspec": {
   "display_name": "Python 3",
   "language": "python",
   "name": "python3"
  },
  "language_info": {
   "codemirror_mode": {
    "name": "ipython",
    "version": 3
   },
   "file_extension": ".py",
   "mimetype": "text/x-python",
   "name": "python",
   "nbconvert_exporter": "python",
   "pygments_lexer": "ipython3",
   "version": "3.6.6"
  }
 },
 "nbformat": 4,
 "nbformat_minor": 2
}
