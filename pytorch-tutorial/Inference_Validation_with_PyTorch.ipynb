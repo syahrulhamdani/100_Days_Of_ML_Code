{
 "cells": [
  {
   "cell_type": "code",
   "execution_count": 1,
   "metadata": {},
   "outputs": [],
   "source": [
    "# import things\n",
    "%matplotlib inline\n",
    "\n",
    "import matplotlib.pyplot as plt\n",
    "import numpy as np\n",
    "import time\n",
    "\n",
    "import torch\n",
    "import torch.nn as nn\n",
    "import torch.nn.functional as F\n",
    "import torch.optim as optim\n",
    "from torchvision import datasets, transforms\n",
    "\n",
    "import helper"
   ]
  },
  {
   "cell_type": "code",
   "execution_count": 2,
   "metadata": {},
   "outputs": [],
   "source": [
    "# Define transform function\n",
    "transform = transforms.Compose([transforms.ToTensor(),\n",
    "                                transforms.Normalize(mean=(0.5, 0.5, 0.5, 0.5), std=(0.5, 0.5, 0.5, 0.5))])\n",
    "\n",
    "# Download and load the training set\n",
    "trainingset = datasets.FashionMNIST('F_MNIST_data', train=True, download=True, transform=transform)\n",
    "trainloader = torch.utils.data.DataLoader(trainingset, shuffle=True, batch_size=64)\n",
    "\n",
    "# Download and load test set\n",
    "testset = datasets.FashionMNIST('F_MNIST_data', train=False, download=True, transform=transform)\n",
    "testloader = torch.utils.data.DataLoader(testset, shuffle=True, batch_size=64)"
   ]
  },
  {
   "cell_type": "markdown",
   "metadata": {},
   "source": [
    "## Building the Network\n",
    "\n",
    "__Goal__: Build a network with an arbitrary number of hidden layers and their number of nodes.\n",
    "\n",
    "To be able to do that, we can use `nn.ModuleList`. It allows us to define arbitrary number of hidden layers having arbitrary number of nodes. Further, this module can be extended to take `nn.Linear` with appropriate sizes for its input and output layers\n",
    "\n",
    "We, then, will build a class formed as subclass of `nn.Module` container."
   ]
  },
  {
   "cell_type": "code",
   "execution_count": 3,
   "metadata": {},
   "outputs": [],
   "source": [
    "class Network(nn.Module):\n",
    "    def __init__(self, input_size, output_size, hidden_layers, drop_p=0.5):\n",
    "        ''' Builds feedforward neural network with arbitrary hidden layers.\n",
    "        \n",
    "        parameters\n",
    "        ----------\n",
    "        input_size: int, size of the input\n",
    "        output_size: int, size of the output layer\n",
    "        hidden_layer: list of int, the sizes of hidden layers\n",
    "        drop_p: float ranging (0,1), dropout probability\n",
    "        '''\n",
    "        super().__init__()\n",
    "        \n",
    "        # Add the first layer -- input to hidden layer\n",
    "        self.hidden_layers = nn.ModuleList([nn.Linear(input_size, hidden_layers[0])])\n",
    "        \n",
    "        # Add variable number for more hidden layers\n",
    "        layer_sizes = zip(hidden_layers[:-1], hidden_layers[1:])\n",
    "        self.hidden_layers.extend([ nn.Linear(h1, h2) for h1,h2 in layer_sizes ])\n",
    "        \n",
    "        # Define the output layer\n",
    "        self.output = nn.Linear(hidden_layers[-1], output_size)\n",
    "        \n",
    "        # Define the dropout process\n",
    "        self.dropout = nn.Dropout(p=drop_p)\n",
    "    \n",
    "    def forward(self, x):\n",
    "        'forward pass x through the network, returns the output logits'\n",
    "        \n",
    "        # Forward through each layer in `hidden_layers`, with ReLU activation\n",
    "        for linear in self.hidden_layers:\n",
    "            x = F.relu(linear(x))\n",
    "            x = self.dropout(x)\n",
    "        \n",
    "        x = self.output(x)\n",
    "        \n",
    "        return F.log_softmax(x, dim=1)"
   ]
  },
  {
   "cell_type": "markdown",
   "metadata": {},
   "source": [
    "Now, since we use `log_softmax` as the activation in output layer, then we can't use ordinary loss function such as `CrossEntropy`. The goal is to convert the log into probability values, hence we can use `nn.NLLLoss`"
   ]
  },
  {
   "cell_type": "code",
   "execution_count": 4,
   "metadata": {},
   "outputs": [],
   "source": [
    "# Create the network and define the criterion and optimizer\n",
    "model = Network(784, 10, [516, 256], drop_p=0.5)\n",
    "criterion = nn.NLLLoss()\n",
    "optimizer = optim.Adam(model.parameters(), lr=0.004)"
   ]
  },
  {
   "cell_type": "code",
   "execution_count": 5,
   "metadata": {},
   "outputs": [],
   "source": [
    "# Implement validation function\n",
    "def validation(model, testloader, criterion):\n",
    "    test_loss = 0\n",
    "    accuracy = 0\n",
    "    for images, labels in testloader:\n",
    "        images.resize_(images.shape[0], 784)\n",
    "        \n",
    "        output = model.forward(images)\n",
    "        test_loss += criterion(output, labels).item()\n",
    "        \n",
    "        ps = torch.exp(output)\n",
    "        # Compute the accuracy\n",
    "        equality = (labels.data == ps.max(dim=1)[1])\n",
    "        accuracy += equality.type(torch.FloatTensor).mean()\n",
    "    \n",
    "    return test_loss, accuracy"
   ]
  },
  {
   "cell_type": "code",
   "execution_count": 6,
   "metadata": {},
   "outputs": [
    {
     "name": "stdout",
     "output_type": "stream",
     "text": [
      "Epochs: 1/2 Training loss: 1.210 Test Loss: 0.733  Test Accuracy: 0.733\n",
      "Epochs: 1/2 Training loss: 0.858 Test Loss: 0.701  Test Accuracy: 0.73\n",
      "Epochs: 1/2 Training loss: 0.788 Test Loss: 0.652  Test Accuracy: 0.752\n",
      "Epochs: 1/2 Training loss: 0.802 Test Loss: 0.623  Test Accuracy: 0.769\n",
      "Epochs: 1/2 Training loss: 0.780 Test Loss: 0.606  Test Accuracy: 0.776\n",
      "Epochs: 1/2 Training loss: 0.788 Test Loss: 0.617  Test Accuracy: 0.776\n",
      "Epochs: 1/2 Training loss: 0.759 Test Loss: 0.615  Test Accuracy: 0.78\n",
      "Epochs: 1/2 Training loss: 0.769 Test Loss: 0.592  Test Accuracy: 0.78\n",
      "Epochs: 1/2 Training loss: 0.712 Test Loss: 0.558  Test Accuracy: 0.797\n",
      "Epochs: 1/2 Training loss: 0.751 Test Loss: 0.567  Test Accuracy: 0.8\n",
      "Epochs: 1/2 Training loss: 0.724 Test Loss: 0.544  Test Accuracy: 0.8\n",
      "Epochs: 1/2 Training loss: 0.746 Test Loss: 0.564  Test Accuracy: 0.795\n",
      "Epochs: 1/2 Training loss: 0.703 Test Loss: 0.551  Test Accuracy: 0.805\n",
      "Epochs: 1/2 Training loss: 0.716 Test Loss: 0.557  Test Accuracy: 0.802\n",
      "Epochs: 1/2 Training loss: 0.705 Test Loss: 0.557  Test Accuracy: 0.813\n",
      "Epochs: 1/2 Training loss: 0.673 Test Loss: 0.547  Test Accuracy: 0.798\n",
      "Epochs: 1/2 Training loss: 0.726 Test Loss: 0.549  Test Accuracy: 0.789\n",
      "Epochs: 1/2 Training loss: 0.717 Test Loss: 0.569  Test Accuracy: 0.808\n",
      "Epochs: 2/2 Training loss: 0.680 Test Loss: 0.555  Test Accuracy: 0.811\n",
      "Epochs: 2/2 Training loss: 0.723 Test Loss: 0.564  Test Accuracy: 0.8\n",
      "Epochs: 2/2 Training loss: 0.674 Test Loss: 0.543  Test Accuracy: 0.812\n",
      "Epochs: 2/2 Training loss: 0.694 Test Loss: 0.549  Test Accuracy: 0.806\n",
      "Epochs: 2/2 Training loss: 0.717 Test Loss: 0.558  Test Accuracy: 0.803\n",
      "Epochs: 2/2 Training loss: 0.748 Test Loss: 0.559  Test Accuracy: 0.808\n",
      "Epochs: 2/2 Training loss: 0.712 Test Loss: 0.548  Test Accuracy: 0.817\n",
      "Epochs: 2/2 Training loss: 0.669 Test Loss: 0.518  Test Accuracy: 0.816\n",
      "Epochs: 2/2 Training loss: 0.707 Test Loss: 0.536  Test Accuracy: 0.811\n",
      "Epochs: 2/2 Training loss: 0.672 Test Loss: 0.546  Test Accuracy: 0.808\n",
      "Epochs: 2/2 Training loss: 0.752 Test Loss: 0.552  Test Accuracy: 0.81\n",
      "Epochs: 2/2 Training loss: 0.717 Test Loss: 0.535  Test Accuracy: 0.819\n",
      "Epochs: 2/2 Training loss: 0.706 Test Loss: 0.546  Test Accuracy: 0.818\n",
      "Epochs: 2/2 Training loss: 0.668 Test Loss: 0.555  Test Accuracy: 0.819\n",
      "Epochs: 2/2 Training loss: 0.691 Test Loss: 0.525  Test Accuracy: 0.82\n",
      "Epochs: 2/2 Training loss: 0.693 Test Loss: 0.515  Test Accuracy: 0.82\n",
      "Epochs: 2/2 Training loss: 0.715 Test Loss: 0.566  Test Accuracy: 0.793\n",
      "Epochs: 2/2 Training loss: 0.699 Test Loss: 0.526  Test Accuracy: 0.81\n",
      "Epochs: 2/2 Training loss: 0.730 Test Loss: 0.527  Test Accuracy: 0.819\n"
     ]
    }
   ],
   "source": [
    "epochs = 2\n",
    "steps = 0\n",
    "print_every = 50\n",
    "epoch_loss = 0\n",
    "\n",
    "for e in range(epochs):\n",
    "    model.train()    # set the model module in training mode -> backward, optimize, etc.\n",
    "    \n",
    "    for images, labels in trainloader:\n",
    "        steps += 1\n",
    "        \n",
    "        images.resize_(images.shape[0], 784)\n",
    "        \n",
    "        output = model.forward(images)\n",
    "        loss = criterion(output, labels)\n",
    "        \n",
    "        # zeros grad, backward, update the weights\n",
    "        optimizer.zero_grad()\n",
    "        loss.backward()\n",
    "        optimizer.step()\n",
    "        \n",
    "        epoch_loss += loss.item()\n",
    "        \n",
    "        if steps % print_every == 0:\n",
    "            # make sure network is in eval mode for validation\n",
    "            # because we don't want to compute gradient and do backward pass\n",
    "            model.eval()\n",
    "            \n",
    "            with torch.no_grad():\n",
    "                test_loss, accuracy = validation(model, testloader, criterion)\n",
    "            \n",
    "            print('Epochs: {}/{}'.format(e+1, epochs),\n",
    "                  'Training loss: {:.3f}'.format(epoch_loss/print_every),\n",
    "                  'Test Loss: {:.3f}'.format(test_loss/len(testloader)),\n",
    "                  ' Test Accuracy: {:.3}'.format(accuracy/len(testloader)))\n",
    "            \n",
    "            epoch_loss = 0\n",
    "            \n",
    "            model.train()"
   ]
  },
  {
   "cell_type": "code",
   "execution_count": 7,
   "metadata": {},
   "outputs": [
    {
     "data": {
      "image/png": "[encoded data removed]",
      "text/plain": [
       "<Figure size 432x648 with 2 Axes>"
      ]
     },
     "metadata": {
      "needs_background": "light"
     },
     "output_type": "display_data"
    }
   ],
   "source": [
    "# Test out the network through inference\n",
    "model.eval()\n",
    "\n",
    "dataiter = iter(testloader)\n",
    "images, labels = dataiter.next()\n",
    "img = images[0]\n",
    "# Convert 2D image to 1D Tensor\n",
    "img = img.view(1, 784)\n",
    "\n",
    "with torch.no_grad():\n",
    "    output = model.forward(img)\n",
    "\n",
    "ps = torch.exp(output)\n",
    "\n",
    "# Plot the image and the probability\n",
    "helper.view_classify(img, ps, version='Fashion')"
   ]
  }
 ],
 "metadata": {
  "kernelspec": {
   "display_name": "Python 3",
   "language": "python",
   "name": "python3"
  },
  "language_info": {
   "codemirror_mode": {
    "name": "ipython",
    "version": 3
   },
   "file_extension": ".py",
   "mimetype": "text/x-python",
   "name": "python",
   "nbconvert_exporter": "python",
   "pygments_lexer": "ipython3",
   "version": "3.6.6"
  }
 },
 "nbformat": 4,
 "nbformat_minor": 2
}
